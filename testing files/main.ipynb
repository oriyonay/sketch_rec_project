{
 "cells": [
  {
   "cell_type": "code",
   "execution_count": 1,
   "metadata": {},
   "outputs": [],
   "source": [
    "# native imports\n",
    "import argparse\n",
    "import pickle\n",
    "import time\n",
    "# library imports\n",
    "import numpy as np\n",
    "from pynput.mouse import Controller\n",
    "#Import functions that we made\n",
    "from tracker import *\n",
    "from tqdm import tqdm"
   ]
  },
  {
   "cell_type": "code",
   "execution_count": null,
   "metadata": {},
   "outputs": [],
   "source": []
  },
  {
   "cell_type": "code",
   "execution_count": null,
   "metadata": {},
   "outputs": [],
   "source": []
  },
  {
   "cell_type": "code",
   "execution_count": 2,
   "metadata": {},
   "outputs": [],
   "source": [
    "sr = 250\n",
    "record_length = 2\n",
    "out  = \"./osu1.p\"\n",
    "derivatives = 0"
   ]
  },
  {
   "cell_type": "code",
   "execution_count": 3,
   "metadata": {},
   "outputs": [],
   "source": [
    "def derivative(x, degree=1):\n",
    "    for _ in range(degree):\n",
    "        x = np.gradient(x)\n",
    "    return x\n",
    "\n",
    "# utility function similar to the one above, but for simultaneously computing\n",
    "# x and y derivatives for a list of (x, y) tuples:\n",
    "def derivative_xy(coords, degree=1):\n",
    "    # convert to x, y numpy arrays:\n",
    "    x = np.array([x for x, _ in coords])\n",
    "    y = np.array([y for _, y in coords])\n",
    "\n",
    "    # compute derivatives:\n",
    "    dx = derivative(x, degree)\n",
    "    dy = derivative(y, degree)\n",
    "\n",
    "    # convert back to (x, y) coordinates:\n",
    "    coords = [(xi, yi) for xi, yi in zip(dx, dy)]\n",
    "    return coords"
   ]
  },
  {
   "cell_type": "code",
   "execution_count": 4,
   "metadata": {},
   "outputs": [
    {
     "name": "stdout",
     "output_type": "stream",
     "text": [
      "initializing...\n",
      "intialized!\n",
      "beginning recording!\n"
     ]
    },
    {
     "name": "stderr",
     "output_type": "stream",
     "text": [
      "100%|████████████████████████████████████████████████████████████████████████████████| 500/500 [00:42<00:00, 11.65it/s]\n"
     ]
    },
    {
     "name": "stdout",
     "output_type": "stream",
     "text": [
      "recording stopped.\n",
      "saving data...\n",
      "data saved successfully. thank you!\n"
     ]
    }
   ],
   "source": [
    "print('initializing...')\n",
    "tracker = Tracker(1)\n",
    "print('intialized!')\n",
    "\n",
    "# calculate the sampling interval (1 / sr) and total\n",
    "# number of samples to be recorded:\n",
    "interval = 1.0 / sr\n",
    "n_samples = record_length * sr\n",
    "\n",
    "# create the x, y lists for mouse and eye tracking data:\n",
    "data = {'mouse_data' : [], 'eye_data_right' : [], 'eye_data_left' : [], 'time' : []}\n",
    "\n",
    "print('beginning recording!')\n",
    "\n",
    "# record the mouse & eye positions n_samples times:\n",
    "for _ in tqdm(range(n_samples)):\n",
    "\n",
    "    # Collecting Eye coordinates and mouse coordinates\n",
    "    p,e,t = tracker.capture()\n",
    "\n",
    "    e_r = None\n",
    "    e_l = None\n",
    "\n",
    "    if e is not None:\n",
    "\n",
    "        e_r = e[0]\n",
    "        e_l = e[1]\n",
    "\n",
    "    # append this data to our data:\n",
    "    data['mouse_data'].append(p)\n",
    "    data['eye_data_right'].append(e_r)\n",
    "    data['eye_data_left'].append(e_l)\n",
    "    data['time'].append(t)\n",
    "\n",
    "    # sleep for interval amount of time (until next sampling):\n",
    "    # time.sleep(interval)\n",
    "\n",
    "tracker.stop_camera()\n",
    "print('recording stopped.')\n",
    "\n",
    "# compute derivatives if requested:\n",
    "if derivatives > 0:\n",
    "    print('computing derivatives...')\n",
    "    for degree in range(1, derivatives+1):\n",
    "        # compute nth degree derivatives:\n",
    "        d_mouse = derivative_xy(data['mouse_data'], degree=degree)\n",
    "        # d_eye = derivative_xy([data['eye_data']], degree=degree)\n",
    "\n",
    "        # save into data dictionary:\n",
    "        data[f'mouse_data_d{degree}'] = d_mouse\n",
    "        # data[f'eye_data_d{degree}'] = d_eye\n",
    "\n",
    "# save the data:\n",
    "print('saving data...')\n",
    "with open(out, 'wb') as f:\n",
    "    pickle.dump(data, f)\n",
    "\n",
    "print('data saved successfully. thank you!')"
   ]
  }
 ],
 "metadata": {
  "kernelspec": {
   "display_name": "Python 3 (ipykernel)",
   "language": "python",
   "name": "python3"
  },
  "language_info": {
   "codemirror_mode": {
    "name": "ipython",
    "version": 3
   },
   "file_extension": ".py",
   "mimetype": "text/x-python",
   "name": "python",
   "nbconvert_exporter": "python",
   "pygments_lexer": "ipython3",
   "version": "3.9.7"
  }
 },
 "nbformat": 4,
 "nbformat_minor": 5
}
